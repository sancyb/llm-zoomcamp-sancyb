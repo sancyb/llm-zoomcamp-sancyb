{
 "cells": [
  {
   "cell_type": "code",
   "execution_count": 2,
   "id": "712ca009",
   "metadata": {},
   "outputs": [],
   "source": [
    "import warnings\n",
    "from fastembed import TextEmbedding\n",
    "\n",
    "warnings.filterwarnings('ignore')"
   ]
  },
  {
   "cell_type": "markdown",
   "id": "d12d6fe7",
   "metadata": {},
   "source": [
    "### Q1 Embedding the query"
   ]
  },
  {
   "cell_type": "code",
   "execution_count": null,
   "id": "07469354",
   "metadata": {},
   "outputs": [],
   "source": [
    "query = 'I just discovered the course. Can I join now?'\n",
    "model_name = \"jinaai/jina-embeddings-v2-small-en\""
   ]
  },
  {
   "cell_type": "code",
   "execution_count": 18,
   "id": "5e322292",
   "metadata": {},
   "outputs": [
    {
     "name": "stdout",
     "output_type": "stream",
     "text": [
      "Size of array: 512\n",
      "Min value: -0.11726373885183883\n"
     ]
    }
   ],
   "source": [
    "model = TextEmbedding(model_name=model_name)\n",
    "emb = list(model.embed(query))[0]\n",
    "\n",
    "print('Size of array:', len(emb))\n",
    "print('Min value:', min(emb))"
   ]
  },
  {
   "cell_type": "markdown",
   "id": "2d0a9eb2",
   "metadata": {},
   "source": [
    "**Q1 Answer:** -0.11"
   ]
  },
  {
   "cell_type": "markdown",
   "id": "89b7babf",
   "metadata": {},
   "source": [
    "### Q2. Cosine similarity with another vector"
   ]
  },
  {
   "cell_type": "code",
   "execution_count": 19,
   "id": "3b55469c",
   "metadata": {},
   "outputs": [
    {
     "data": {
      "text/plain": [
       "np.float64(1.0)"
      ]
     },
     "execution_count": 19,
     "metadata": {},
     "output_type": "execute_result"
    }
   ],
   "source": [
    "import numpy as np\n",
    "np.linalg.norm(emb)"
   ]
  },
  {
   "cell_type": "code",
   "execution_count": 22,
   "id": "f1cf0ee8",
   "metadata": {},
   "outputs": [],
   "source": [
    "query2 = 'Can I still join the course after the start date?'\n",
    "emb2 = list(model.embed(query2))[0]"
   ]
  },
  {
   "cell_type": "code",
   "execution_count": 24,
   "id": "b95035d4",
   "metadata": {},
   "outputs": [
    {
     "name": "stdout",
     "output_type": "stream",
     "text": [
      "Cosine similarity between Query and Query2: 0.9008528895674548\n"
     ]
    }
   ],
   "source": [
    "print('Cosine similarity between Query and Query2:', emb.dot(emb2))"
   ]
  },
  {
   "cell_type": "markdown",
   "id": "227b2cfb",
   "metadata": {},
   "source": [
    "**Q2 Answer**: 0.9"
   ]
  },
  {
   "cell_type": "markdown",
   "id": "453e9e57",
   "metadata": {},
   "source": [
    "### Q3. Ranking by cosine"
   ]
  },
  {
   "cell_type": "code",
   "execution_count": 25,
   "id": "bac30dc7",
   "metadata": {},
   "outputs": [],
   "source": [
    "documents = [{'text': \"Yes, even if you don't register, you're still eligible to submit the homeworks.\\nBe aware, however, that there will be deadlines for turning in the final projects. So don't leave everything for the last minute.\",\n",
    "  'section': 'General course-related questions',\n",
    "  'question': 'Course - Can I still join the course after the start date?',\n",
    "  'course': 'data-engineering-zoomcamp'},\n",
    " {'text': 'Yes, we will keep all the materials after the course finishes, so you can follow the course at your own pace after it finishes.\\nYou can also continue looking at the homeworks and continue preparing for the next cohort. I guess you can also start working on your final capstone project.',\n",
    "  'section': 'General course-related questions',\n",
    "  'question': 'Course - Can I follow the course after it finishes?',\n",
    "  'course': 'data-engineering-zoomcamp'},\n",
    " {'text': \"The purpose of this document is to capture frequently asked technical questions\\nThe exact day and hour of the course will be 15th Jan 2024 at 17h00. The course will start with the first  “Office Hours'' live.1\\nSubscribe to course public Google Calendar (it works from Desktop only).\\nRegister before the course starts using this link.\\nJoin the course Telegram channel with announcements.\\nDon’t forget to register in DataTalks.Club's Slack and join the channel.\",\n",
    "  'section': 'General course-related questions',\n",
    "  'question': 'Course - When will the course start?',\n",
    "  'course': 'data-engineering-zoomcamp'},\n",
    " {'text': 'You can start by installing and setting up all the dependencies and requirements:\\nGoogle cloud account\\nGoogle Cloud SDK\\nPython 3 (installed with Anaconda)\\nTerraform\\nGit\\nLook over the prerequisites and syllabus to see if you are comfortable with these subjects.',\n",
    "  'section': 'General course-related questions',\n",
    "  'question': 'Course - What can I do before the course starts?',\n",
    "  'course': 'data-engineering-zoomcamp'},\n",
    " {'text': 'Star the repo! Share it with friends if you find it useful ❣️\\nCreate a PR if you see you can improve the text or the structure of the repository.',\n",
    "  'section': 'General course-related questions',\n",
    "  'question': 'How can we contribute to the course?',\n",
    "  'course': 'data-engineering-zoomcamp'}]"
   ]
  },
  {
   "cell_type": "code",
   "execution_count": 31,
   "id": "53feac7f",
   "metadata": {},
   "outputs": [
    {
     "name": "stdout",
     "output_type": "stream",
     "text": [
      "Cosine between query and document 0:  0.7629684696540238\n",
      "Cosine between query and document 1:  0.8182378150042889\n",
      "Cosine between query and document 2:  0.8085397398734189\n",
      "Cosine between query and document 3:  0.7133079015686243\n",
      "Cosine between query and document 4:  0.7304499234333598\n"
     ]
    }
   ],
   "source": [
    "idx = 0\n",
    "\n",
    "for doc in documents:\n",
    "    v = list(model.embed(doc['text']))[0]\n",
    "    cosine = emb.dot(v)\n",
    "    print(f'Cosine between query and document {idx}: ', cosine)\n",
    "    idx += 1"
   ]
  },
  {
   "cell_type": "markdown",
   "id": "03e55a78",
   "metadata": {},
   "source": [
    "**Q3 Answer**: document 1"
   ]
  },
  {
   "cell_type": "markdown",
   "id": "7e67d885",
   "metadata": {},
   "source": [
    "### Q4. Ranking by cosine, version two"
   ]
  },
  {
   "cell_type": "code",
   "execution_count": 32,
   "id": "9629ad08",
   "metadata": {},
   "outputs": [
    {
     "name": "stdout",
     "output_type": "stream",
     "text": [
      "Cosine between query and document 0:  0.8514543236908068\n",
      "Cosine between query and document 1:  0.8436594159113068\n",
      "Cosine between query and document 2:  0.8408287048502558\n",
      "Cosine between query and document 3:  0.7755157969663908\n",
      "Cosine between query and document 4:  0.8086007795043938\n"
     ]
    }
   ],
   "source": [
    "idx = 0\n",
    "\n",
    "for doc in documents:\n",
    "    v = list(model.embed(doc['question'] + ' ' + doc['text']))[0]\n",
    "    cosine = emb.dot(v)\n",
    "    print(f'Cosine between query and document {idx}: ', cosine)\n",
    "    idx += 1"
   ]
  },
  {
   "cell_type": "markdown",
   "id": "03433b91",
   "metadata": {},
   "source": [
    "**Q4 Answer: document 0** - it is becuase question for this document is very similar to query"
   ]
  },
  {
   "cell_type": "markdown",
   "id": "97ff1810",
   "metadata": {},
   "source": [
    "### Q5. Selecting the embedding model"
   ]
  },
  {
   "cell_type": "code",
   "execution_count": 36,
   "id": "c2e546a8",
   "metadata": {},
   "outputs": [
    {
     "name": "stdout",
     "output_type": "stream",
     "text": [
      "The smallest dimension: 384\n"
     ]
    }
   ],
   "source": [
    "print('The smallest dimension:', min([model[\"dim\"] for model in TextEmbedding.list_supported_models()]))"
   ]
  },
  {
   "cell_type": "markdown",
   "id": "03a68386",
   "metadata": {},
   "source": [
    "### Q6 Indexing with qdrant (2 points)"
   ]
  },
  {
   "cell_type": "code",
   "execution_count": 37,
   "id": "7cd11645",
   "metadata": {},
   "outputs": [],
   "source": [
    "import requests \n",
    "\n",
    "docs_url = 'https://github.com/alexeygrigorev/llm-rag-workshop/raw/main/notebooks/documents.json'\n",
    "docs_response = requests.get(docs_url)\n",
    "documents_raw = docs_response.json()\n",
    "\n",
    "\n",
    "documents = []\n",
    "\n",
    "for course in documents_raw:\n",
    "    course_name = course['course']\n",
    "    if course_name != 'machine-learning-zoomcamp':\n",
    "        continue\n",
    "\n",
    "    for doc in course['documents']:\n",
    "        doc['course'] = course_name\n",
    "        documents.append(doc)"
   ]
  },
  {
   "cell_type": "code",
   "execution_count": 39,
   "id": "279748a1",
   "metadata": {},
   "outputs": [],
   "source": [
    "from qdrant_client import QdrantClient, models\n",
    "client = QdrantClient(\"http://localhost:6333\")\n",
    "model_name = \"BAAI/bge-small-en\"\n",
    "EMBEDDING_DIMENSIONALITY = 384 #from Q5"
   ]
  },
  {
   "cell_type": "code",
   "execution_count": 40,
   "id": "71407768",
   "metadata": {},
   "outputs": [
    {
     "data": {
      "text/plain": [
       "True"
      ]
     },
     "execution_count": 40,
     "metadata": {},
     "output_type": "execute_result"
    }
   ],
   "source": [
    "# Define the collection name\n",
    "collection_name = \"llm-zoomcamp-homework\"\n",
    "\n",
    "# Create the collection with specified vector parameters\n",
    "client.create_collection(\n",
    "    collection_name=collection_name,\n",
    "    vectors_config=models.VectorParams(\n",
    "        size=EMBEDDING_DIMENSIONALITY,  # Dimensionality of the vectors\n",
    "        distance=models.Distance.COSINE  # Distance metric for similarity search\n",
    "    )\n",
    ")"
   ]
  },
  {
   "cell_type": "code",
   "execution_count": 42,
   "id": "7351b344",
   "metadata": {},
   "outputs": [],
   "source": [
    "points = []\n",
    "id = 0\n",
    "\n",
    "for doc in documents:\n",
    "    text = doc['question'] + ' ' + doc['text']\n",
    "    point = models.PointStruct(\n",
    "        id=id,\n",
    "        vector=models.Document(text=text, model=model_name),\n",
    "        payload={\n",
    "            \"text\": text,\n",
    "            \"section\": doc['section'],\n",
    "            \"course\": doc['course']\n",
    "        } #save all needed metadata fields\n",
    "    )\n",
    "    points.append(point)\n",
    "\n",
    "    id += 1"
   ]
  },
  {
   "cell_type": "code",
   "execution_count": 43,
   "id": "59828a75",
   "metadata": {},
   "outputs": [
    {
     "name": "stderr",
     "output_type": "stream",
     "text": [
      "Fetching 5 files:  80%|████████  | 4/5 [00:04<00:01,  1.09s/it]\n",
      "\u001b[32m2025-06-30 00:23:00.312\u001b[0m | \u001b[31m\u001b[1mERROR   \u001b[0m | \u001b[36mfastembed.common.model_management\u001b[0m:\u001b[36mdownload_model\u001b[0m:\u001b[36m430\u001b[0m - \u001b[31m\u001b[1mCould not download model from HuggingFace: [WinError 1314] Klient nie ma wymaganych uprawnień: '..\\\\..\\\\blobs\\\\37fca74771bc76a8e01178ce3a6055a0995f8093' -> 'C:\\\\Users\\\\ROG\\\\AppData\\\\Local\\\\Temp\\\\fastembed_cache\\\\models--Qdrant--bge-small-en\\\\snapshots\\\\8791246cc2a79c7949a4dc0d4a018cbd7d024879\\\\tokenizer_config.json' Falling back to other sources.\u001b[0m\n",
      "100%|██████████| 77.7M/77.7M [00:03<00:00, 25.4MiB/s]\n"
     ]
    },
    {
     "data": {
      "text/plain": [
       "UpdateResult(operation_id=0, status=<UpdateStatus.COMPLETED: 'completed'>)"
      ]
     },
     "execution_count": 43,
     "metadata": {},
     "output_type": "execute_result"
    }
   ],
   "source": [
    "client.upsert(\n",
    "    collection_name=collection_name,\n",
    "    points=points\n",
    ")"
   ]
  },
  {
   "cell_type": "code",
   "execution_count": 44,
   "id": "5fdd86b6",
   "metadata": {},
   "outputs": [
    {
     "data": {
      "text/plain": [
       "375"
      ]
     },
     "execution_count": 44,
     "metadata": {},
     "output_type": "execute_result"
    }
   ],
   "source": [
    "len(points)"
   ]
  },
  {
   "cell_type": "code",
   "execution_count": 46,
   "id": "b20dd9e6",
   "metadata": {},
   "outputs": [],
   "source": [
    "def search(query, limit=1):\n",
    "\n",
    "    results = client.query_points(\n",
    "        collection_name=collection_name,\n",
    "        query=models.Document( #embed the query text locally with \"jinaai/jina-embeddings-v2-small-en\"\n",
    "            text=query,\n",
    "            model=model_name \n",
    "        ),\n",
    "        limit=limit, # top closest matches\n",
    "        with_payload=True #to get metadata in the results\n",
    "    )\n",
    "\n",
    "    return results"
   ]
  },
  {
   "cell_type": "code",
   "execution_count": 47,
   "id": "6eb384d0",
   "metadata": {},
   "outputs": [],
   "source": [
    "result = search(query)"
   ]
  },
  {
   "cell_type": "code",
   "execution_count": 48,
   "id": "96d8c90e",
   "metadata": {},
   "outputs": [
    {
     "data": {
      "text/plain": [
       "{'text': 'The course has already started. Can I still join it? Yes, you can. You won’t be able to submit some of the homeworks, but you can still take part in the course.\\nIn order to get a certificate, you need to submit 2 out of 3 course projects and review 3 peers’ Projects by the deadline. It means that if you join the course at the end of November and manage to work on two projects, you will still be eligible for a certificate.',\n",
       " 'section': 'General course-related questions',\n",
       " 'course': 'machine-learning-zoomcamp'}"
      ]
     },
     "execution_count": 48,
     "metadata": {},
     "output_type": "execute_result"
    }
   ],
   "source": [
    "result.points[0].payload"
   ]
  },
  {
   "cell_type": "code",
   "execution_count": 49,
   "id": "6c13f1fe",
   "metadata": {},
   "outputs": [
    {
     "data": {
      "text/plain": [
       "0.8703172"
      ]
     },
     "execution_count": 49,
     "metadata": {},
     "output_type": "execute_result"
    }
   ],
   "source": [
    "result.points[0].score"
   ]
  },
  {
   "cell_type": "markdown",
   "id": "121fe545",
   "metadata": {},
   "source": [
    "**Q6 Answer:** 0.87"
   ]
  }
 ],
 "metadata": {
  "kernelspec": {
   "display_name": "base",
   "language": "python",
   "name": "python3"
  },
  "language_info": {
   "codemirror_mode": {
    "name": "ipython",
    "version": 3
   },
   "file_extension": ".py",
   "mimetype": "text/x-python",
   "name": "python",
   "nbconvert_exporter": "python",
   "pygments_lexer": "ipython3",
   "version": "3.13.5"
  }
 },
 "nbformat": 4,
 "nbformat_minor": 5
}
