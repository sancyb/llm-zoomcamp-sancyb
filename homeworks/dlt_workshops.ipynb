{
 "cells": [
  {
   "cell_type": "code",
   "execution_count": 8,
   "id": "043ad885",
   "metadata": {},
   "outputs": [],
   "source": [
    "import requests"
   ]
  },
  {
   "cell_type": "markdown",
   "id": "40e315b1",
   "metadata": {},
   "source": [
    "### Q1: dlt version"
   ]
  },
  {
   "cell_type": "code",
   "execution_count": 1,
   "id": "c14f5b66",
   "metadata": {},
   "outputs": [],
   "source": [
    "!pip install -q \"dlt[qdrant]\" \"qdrant-client[fastembed]\""
   ]
  },
  {
   "cell_type": "code",
   "execution_count": null,
   "id": "a8e80531",
   "metadata": {},
   "outputs": [
    {
     "data": {
      "text/plain": [
       "'1.13.0'"
      ]
     },
     "execution_count": 2,
     "metadata": {},
     "output_type": "execute_result"
    }
   ],
   "source": [
    "import dlt\n",
    "print('Q1 - answer:', dlt.__version__)"
   ]
  },
  {
   "cell_type": "markdown",
   "id": "bd679d4a",
   "metadata": {},
   "source": [
    "### dlt Resource"
   ]
  },
  {
   "cell_type": "code",
   "execution_count": 3,
   "id": "83989a92",
   "metadata": {},
   "outputs": [],
   "source": [
    "@dlt.resource\n",
    "def zoomcamp_data():\n",
    "    docs_url = 'https://github.com/alexeygrigorev/llm-rag-workshop/raw/main/notebooks/documents.json'\n",
    "    docs_response = requests.get(docs_url)\n",
    "    documents_raw = docs_response.json()\n",
    "\n",
    "    for course in documents_raw:\n",
    "        course_name = course['course']\n",
    "\n",
    "        for doc in course['documents']:\n",
    "            doc['course'] = course_name\n",
    "            yield doc"
   ]
  },
  {
   "cell_type": "markdown",
   "id": "e8e81999",
   "metadata": {},
   "source": [
    "### Q2 "
   ]
  },
  {
   "cell_type": "code",
   "execution_count": 4,
   "id": "19450edd",
   "metadata": {},
   "outputs": [],
   "source": [
    "from dlt.destinations import qdrant\n",
    "\n",
    "qdrant_destination = qdrant(\n",
    "  qd_path=\"db.qdrant\", \n",
    ")"
   ]
  },
  {
   "cell_type": "code",
   "execution_count": 9,
   "id": "b4716b1d",
   "metadata": {},
   "outputs": [
    {
     "name": "stdout",
     "output_type": "stream",
     "text": [
      "Run started at 2025-07-10 19:49:12.647497+00:00 and COMPLETED in 7.68 seconds with 4 steps.\n",
      "Step extract COMPLETED in 0.65 seconds.\n",
      "\n",
      "Load package 1752176953.2579715 is EXTRACTED and NOT YET LOADED to the destination and contains no failed jobs\n",
      "\n",
      "Step normalize COMPLETED in 0.21 seconds.\n",
      "Normalized data for the following tables:\n",
      "- zoomcamp_data: 948 row(s)\n",
      "- _dlt_pipeline_state: 1 row(s)\n",
      "\n",
      "Load package 1752176953.2579715 is NORMALIZED and NOT YET LOADED to the destination and contains no failed jobs\n",
      "\n",
      "Step load COMPLETED in 6.22 seconds.\n",
      "Pipeline zoomcamp_pipeline load step completed in 6.21 seconds\n",
      "1 load package(s) were loaded to destination qdrant and into dataset zoomcamp_tagged_data\n",
      "The qdrant destination used c:\\Users\\ROG\\Desktop\\Sandra\\repos_sancyb\\llm-zoomcamp-sancyb\\homeworks\\db.qdrant location to store data\n",
      "Load package 1752176953.2579715 is LOADED and contains no failed jobs\n",
      "\n",
      "Step run COMPLETED in 7.68 seconds.\n",
      "Pipeline zoomcamp_pipeline load step completed in 6.21 seconds\n",
      "1 load package(s) were loaded to destination qdrant and into dataset zoomcamp_tagged_data\n",
      "The qdrant destination used c:\\Users\\ROG\\Desktop\\Sandra\\repos_sancyb\\llm-zoomcamp-sancyb\\homeworks\\db.qdrant location to store data\n",
      "Load package 1752176953.2579715 is LOADED and contains no failed jobs\n"
     ]
    }
   ],
   "source": [
    "pipeline = dlt.pipeline(\n",
    "    pipeline_name=\"zoomcamp_pipeline\",\n",
    "    destination=qdrant_destination,\n",
    "    dataset_name=\"zoomcamp_tagged_data\"\n",
    "\n",
    ")\n",
    "load_info = pipeline.run(zoomcamp_data())\n",
    "print(pipeline.last_trace)"
   ]
  },
  {
   "cell_type": "markdown",
   "id": "ba959c30",
   "metadata": {},
   "source": [
    "**Q2 - answer: 948 row(s)**"
   ]
  },
  {
   "cell_type": "markdown",
   "id": "176d57e2",
   "metadata": {},
   "source": [
    "### Q3 - Embeddings"
   ]
  },
  {
   "cell_type": "markdown",
   "id": "0de7218f",
   "metadata": {},
   "source": [
    "**Q3 answer - \"fast-bge-small-en\"**"
   ]
  }
 ],
 "metadata": {
  "kernelspec": {
   "display_name": "base",
   "language": "python",
   "name": "python3"
  },
  "language_info": {
   "codemirror_mode": {
    "name": "ipython",
    "version": 3
   },
   "file_extension": ".py",
   "mimetype": "text/x-python",
   "name": "python",
   "nbconvert_exporter": "python",
   "pygments_lexer": "ipython3",
   "version": "3.13.5"
  }
 },
 "nbformat": 4,
 "nbformat_minor": 5
}
