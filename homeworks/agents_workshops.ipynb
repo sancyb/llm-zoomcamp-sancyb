{
 "cells": [
  {
   "cell_type": "markdown",
   "id": "a0058df6",
   "metadata": {},
   "source": [
    "### Preparation"
   ]
  },
  {
   "cell_type": "code",
   "execution_count": 1,
   "id": "f712458f",
   "metadata": {},
   "outputs": [],
   "source": [
    "import random\n",
    "\n",
    "known_weather_data = {\n",
    "    'berlin': 20.0\n",
    "}\n",
    "\n",
    "def get_weather(city: str) -> float:\n",
    "    city = city.strip().lower()\n",
    "\n",
    "    if city in known_weather_data:\n",
    "        return known_weather_data[city]\n",
    "\n",
    "    return round(random.uniform(-5, 35), 1)"
   ]
  },
  {
   "cell_type": "markdown",
   "id": "508f2f1b",
   "metadata": {},
   "source": [
    "### Q1 - Define function description"
   ]
  },
  {
   "cell_type": "code",
   "execution_count": 2,
   "id": "7e6ed74e",
   "metadata": {},
   "outputs": [],
   "source": [
    "#  get_weather_tool = {\n",
    "#     \"type\": \"function\",\n",
    "#     \"name\": \"<TODO1>\",\n",
    "#     \"description\": \"<TODO2>\",\n",
    "#     \"parameters\": {\n",
    "#         \"type\": \"object\",\n",
    "#         \"properties\": {\n",
    "#             \"<TODO3>\": {\n",
    "#                 \"type\": \"string\",\n",
    "#                 \"description\": \"<TODO4>\"\n",
    "#             }\n",
    "#         },\n",
    "#         \"required\": [TODO5],\n",
    "#         \"additionalProperties\": False\n",
    "#     }\n",
    "# }"
   ]
  },
  {
   "cell_type": "code",
   "execution_count": 3,
   "id": "9ee6afe7",
   "metadata": {},
   "outputs": [],
   "source": [
    "get_weather_tool = {\n",
    "    \"type\": \"function\",\n",
    "    \"name\": \"get_weather\",\n",
    "    \"description\": \"Search the known_weather_data\",\n",
    "    \"parameters\": {\n",
    "        \"type\": \"object\",\n",
    "        \"properties\": {\n",
    "            \"city\": {\n",
    "                \"type\": \"string\",\n",
    "                \"description\": \"Search city text to look up in the known_weather_data\"\n",
    "            }\n",
    "        },\n",
    "        \"required\": [\"city\"],\n",
    "        \"additionalProperties\": False\n",
    "    }\n",
    "}"
   ]
  },
  {
   "cell_type": "markdown",
   "id": "fd1f8681",
   "metadata": {},
   "source": [
    "**Q1**: TODO3 - \"city\""
   ]
  },
  {
   "cell_type": "markdown",
   "id": "fd194977",
   "metadata": {},
   "source": [
    "### Q2 - Adding another tool"
   ]
  },
  {
   "cell_type": "code",
   "execution_count": 4,
   "id": "dcd0b082",
   "metadata": {},
   "outputs": [],
   "source": [
    "def set_weather(city: str, temp: float) -> None:\n",
    "    city = city.strip().lower()\n",
    "    known_weather_data[city] = temp\n",
    "    return 'OK'"
   ]
  },
  {
   "cell_type": "markdown",
   "id": "6fe439b8",
   "metadata": {},
   "source": [
    "**Q2** - \"Set the temperature for the given city.\""
   ]
  },
  {
   "cell_type": "markdown",
   "id": "be2c35aa",
   "metadata": {},
   "source": [
    "### Q3 - Install FastMCP"
   ]
  },
  {
   "cell_type": "code",
   "execution_count": 5,
   "id": "a4ef459b",
   "metadata": {},
   "outputs": [
    {
     "name": "stdout",
     "output_type": "stream",
     "text": [
      "Q3 - fastmcp version: 2.10.5\n"
     ]
    }
   ],
   "source": [
    "import fastmcp\n",
    "print('Q3 - fastmcp version:', fastmcp.__version__)"
   ]
  },
  {
   "cell_type": "markdown",
   "id": "0b5a2981",
   "metadata": {},
   "source": [
    "### Q4 - Simple MCP Server"
   ]
  },
  {
   "cell_type": "code",
   "execution_count": null,
   "id": "5d0a4939",
   "metadata": {},
   "outputs": [],
   "source": [
    "## to run in terminal as script\n",
    "\n",
    "# weather_server.py\n",
    "\n",
    "# from fastmcp import FastMCP\n",
    "\n",
    "# mcp = FastMCP(\"Demo 🚀\")\n",
    "\n",
    "# @mcp.tool\n",
    "# def add(a: int, b: int) -> int:\n",
    "#     \"\"\"Add two numbers\"\"\"\n",
    "#     return a + b\n",
    "\n",
    "# if __name__ == \"__main__\":\n",
    "#     mcp.run()"
   ]
  },
  {
   "cell_type": "code",
   "execution_count": 12,
   "id": "284c8b5a",
   "metadata": {},
   "outputs": [],
   "source": [
    "def get_weather(city: str) -> float:\n",
    "    \"\"\"\n",
    "    Retrieves the temperature for a specified city.\n",
    "\n",
    "    Parameters:\n",
    "        city (str): The name of the city for which to retrieve weather data.\n",
    "\n",
    "    Returns:\n",
    "        float: The temperature associated with the city.\n",
    "    \"\"\"\n",
    "    city = city.strip().lower()\n",
    "\n",
    "    if city in known_weather_data:\n",
    "        return known_weather_data[city]\n",
    "\n",
    "    return round(random.uniform(-5, 35), 1)\n",
    "\n",
    "\n",
    "def set_weather(city: str, temp: float) -> None:\n",
    "    \"\"\"\n",
    "    Sets the temperature for a specified city.\n",
    "\n",
    "    Parameters:\n",
    "        city (str): The name of the city for which to set the weather data.\n",
    "        temp (float): The temperature to associate with the city.\n",
    "\n",
    "    Returns:\n",
    "        str: A confirmation string 'OK' indicating successful update.\n",
    "    \"\"\"\n",
    "    city = city.strip().lower()\n",
    "    known_weather_data[city] = temp\n",
    "    return 'OK'"
   ]
  },
  {
   "cell_type": "markdown",
   "id": "1d569fd2",
   "metadata": {},
   "source": [
    "**Q4 - answer:** 'stdio'"
   ]
  },
  {
   "cell_type": "markdown",
   "id": "82a0f011",
   "metadata": {},
   "source": [
    "### Q5 - Protocol"
   ]
  },
  {
   "cell_type": "code",
   "execution_count": null,
   "id": "b3bbb19b",
   "metadata": {},
   "outputs": [],
   "source": [
    "## to paste in terminal: \n",
    "# {\"jsonrpc\": \"2.0\", \n",
    "# \"id\": 3, \n",
    "# \"method\": \"tools/call\", \n",
    "# \"params\": \n",
    "#     {\n",
    "#         \"name\": \"get_weather\", \n",
    "#         \"arguments\": \n",
    "#             {\"city\": \"Berlin\"}}}"
   ]
  },
  {
   "cell_type": "markdown",
   "id": "652e90ad",
   "metadata": {},
   "source": [
    "**Q5 - answer**:  \n",
    "{\"jsonrpc\":\"2.0\",\"id\":3,\"result\":{\"content\":[{\"type\":\"text\",\"text\":\"20.0\"}],\"structuredContent\":{\"result\":20.0},\"isError\":false}}"
   ]
  },
  {
   "cell_type": "markdown",
   "id": "85ef0350",
   "metadata": {},
   "source": [
    "### Q6 - Client"
   ]
  },
  {
   "cell_type": "code",
   "execution_count": 1,
   "id": "71ce0b0d",
   "metadata": {},
   "outputs": [
    {
     "name": "stdout",
     "output_type": "stream",
     "text": [
      "[Tool(name='get_weather', title=None, description='Retrieves the temperature for a specified city.\\n\\nParameters:\\n    city (str): The name of the city for which to retrieve weather data.\\n\\nReturns:\\n    float: The temperature associated with the city.', inputSchema={'properties': {'city': {'title': 'City', 'type': 'string'}}, 'required': ['city'], 'type': 'object'}, outputSchema={'properties': {'result': {'title': 'Result', 'type': 'number'}}, 'required': ['result'], 'title': '_WrappedResult', 'type': 'object', 'x-fastmcp-wrap-result': True}, annotations=None, meta=None)]\n"
     ]
    }
   ],
   "source": [
    "from fastmcp import Client\n",
    "import weather_server  # Ensure it has a running MCP server and registered tools\n",
    "import asyncio\n",
    "\n",
    "async def main():\n",
    "    async with Client(weather_server.mcp) as mcp_client:\n",
    "        tools = await mcp_client.list_tools()\n",
    "        print(tools)\n",
    "\n",
    "await main()"
   ]
  },
  {
   "cell_type": "markdown",
   "id": "6dd76338",
   "metadata": {},
   "source": [
    "**Q6 - answer:**  \n",
    "[Tool(name='get_weather', title=None, description='Retrieves the temperature for a specified city.\\n\\nParameters:\\n    city (str): The name of the city for which to retrieve weather data.\\n\\nReturns:\\n    float: The temperature associated with the city.', inputSchema={'properties': {'city': {'title': 'City', 'type': 'string'}}, 'required': ['city'], 'type': 'object'}, outputSchema={'properties': {'result': {'title': 'Result', 'type': 'number'}}, 'required': ['result'], 'title': '_WrappedResult', 'type': 'object', 'x-fastmcp-wrap-result': True}, annotations=None, meta=None)]"
   ]
  }
 ],
 "metadata": {
  "kernelspec": {
   "display_name": "base",
   "language": "python",
   "name": "python3"
  },
  "language_info": {
   "codemirror_mode": {
    "name": "ipython",
    "version": 3
   },
   "file_extension": ".py",
   "mimetype": "text/x-python",
   "name": "python",
   "nbconvert_exporter": "python",
   "pygments_lexer": "ipython3",
   "version": "3.13.5"
  }
 },
 "nbformat": 4,
 "nbformat_minor": 5
}
