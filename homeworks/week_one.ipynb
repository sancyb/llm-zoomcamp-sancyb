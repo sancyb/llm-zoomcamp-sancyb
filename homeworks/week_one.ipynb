{
 "cells": [
  {
   "cell_type": "markdown",
   "id": "5cc71659",
   "metadata": {},
   "source": [
    "### Q1 Running Elastic Search"
   ]
  },
  {
   "cell_type": "markdown",
   "id": "3a81c79f",
   "metadata": {},
   "source": [
    "For elasticsearch=8.4.3:  \n",
    "`version.build.hash = \"42f05b9372a9a4a470db3b52817899b99a76ee73\"`"
   ]
  },
  {
   "cell_type": "markdown",
   "id": "2f3ef733",
   "metadata": {},
   "source": [
    "### Q2 Indexing the data"
   ]
  },
  {
   "cell_type": "markdown",
   "id": "c2e14b61",
   "metadata": {},
   "source": [
    "#### Getting the data"
   ]
  },
  {
   "cell_type": "code",
   "execution_count": null,
   "id": "0830a3d5",
   "metadata": {},
   "outputs": [],
   "source": [
    "import requests \n",
    "\n",
    "docs_url = 'https://github.com/DataTalksClub/llm-zoomcamp/blob/main/01-intro/documents.json?raw=1'\n",
    "docs_response = requests.get(docs_url)\n",
    "documents_raw = docs_response.json()\n",
    "\n",
    "documents = []\n",
    "\n",
    "for course in documents_raw:\n",
    "    course_name = course['course']\n",
    "\n",
    "    for doc in course['documents']:\n",
    "        doc['course'] = course_name\n",
    "        documents.append(doc)"
   ]
  },
  {
   "cell_type": "code",
   "execution_count": null,
   "id": "b52cb144",
   "metadata": {},
   "outputs": [],
   "source": [
    "documents[0]"
   ]
  },
  {
   "cell_type": "markdown",
   "id": "e971d321",
   "metadata": {},
   "source": [
    "#### Indexing the data"
   ]
  },
  {
   "cell_type": "code",
   "execution_count": null,
   "id": "ed05fe5a",
   "metadata": {},
   "outputs": [],
   "source": [
    "from elasticsearch import Elasticsearch\n",
    "from tqdm.auto import tqdm"
   ]
  },
  {
   "cell_type": "code",
   "execution_count": null,
   "id": "85499696",
   "metadata": {},
   "outputs": [],
   "source": [
    "es_client = Elasticsearch('http://localhost:9200')"
   ]
  },
  {
   "cell_type": "code",
   "execution_count": null,
   "id": "67c5c7d2",
   "metadata": {},
   "outputs": [],
   "source": [
    "index_settings = {\n",
    "    \"settings\": {\n",
    "        \"number_of_shards\": 1,\n",
    "        \"number_of_replicas\": 0\n",
    "    },\n",
    "    \"mappings\": {\n",
    "        \"properties\": {\n",
    "            \"text\": {\"type\": \"text\"},\n",
    "            \"section\": {\"type\": \"text\"},\n",
    "            \"question\": {\"type\": \"text\"},\n",
    "            \"course\": {\"type\": \"keyword\"} \n",
    "        }\n",
    "    }\n",
    "}\n",
    "\n",
    "index_name = \"course-questions-homework\"\n",
    "es_client.indices.create(index=index_name, body=index_settings)"
   ]
  },
  {
   "cell_type": "code",
   "execution_count": null,
   "id": "591dbdc0",
   "metadata": {},
   "outputs": [],
   "source": [
    "for doc in tqdm(documents):\n",
    "    es_client.index(\n",
    "        index=index_name,\n",
    "        document=doc\n",
    "    )"
   ]
  },
  {
   "cell_type": "markdown",
   "id": "8c33cf8d",
   "metadata": {},
   "source": [
    "**Q2 Answer:**    \n",
    "`index` - function to add data into index"
   ]
  },
  {
   "cell_type": "markdown",
   "id": "d6b6c0c6",
   "metadata": {},
   "source": [
    "### Q3 - Searching"
   ]
  },
  {
   "cell_type": "code",
   "execution_count": null,
   "id": "c4b80c11",
   "metadata": {},
   "outputs": [],
   "source": [
    "query = 'How do execute a command on a Kubernetes pod?'"
   ]
  },
  {
   "cell_type": "code",
   "execution_count": null,
   "id": "ce79b86f",
   "metadata": {},
   "outputs": [],
   "source": [
    "search_query ={\n",
    "    \"size\": 1,\n",
    "    \"query\": {\n",
    "        \"bool\": {\n",
    "            \"must\": {\n",
    "                \"multi_match\": {\n",
    "                    \"query\": query,\n",
    "                    \"fields\": [\"question^4\", \"text\"],\n",
    "                    \"type\": \"best_fields\"\n",
    "                }\n",
    "            },\n",
    "\n",
    "        }\n",
    "    }\n",
    "    }"
   ]
  },
  {
   "cell_type": "code",
   "execution_count": null,
   "id": "a0e86434",
   "metadata": {},
   "outputs": [],
   "source": [
    "def elastic_search(search_query):\n",
    "    respone = es_client.search(index=index_name, body=search_query)\n",
    "    results_docs = []\n",
    "    results_score = []\n",
    "    for hit in respone['hits']['hits']:\n",
    "        results_docs.append(hit['_source'])\n",
    "        results_score.append(hit['_score'])\n",
    "    return results_docs,results_score"
   ]
  },
  {
   "cell_type": "code",
   "execution_count": null,
   "id": "5c6bc391",
   "metadata": {},
   "outputs": [],
   "source": [
    "_,scores = elastic_search(search_query)\n",
    "# max score: 44"
   ]
  },
  {
   "cell_type": "markdown",
   "id": "fd6a5463",
   "metadata": {},
   "source": [
    "**Q3 Answer:**   \n",
    "`Max score = 44.5`"
   ]
  },
  {
   "cell_type": "markdown",
   "id": "b554662e",
   "metadata": {},
   "source": [
    "### Q4 Filtering"
   ]
  },
  {
   "cell_type": "code",
   "execution_count": 10,
   "id": "82d3d0d6",
   "metadata": {},
   "outputs": [],
   "source": [
    "query = 'How do copy a file to a Docker container?'\n",
    "search_query ={\n",
    "    \"size\": 3,\n",
    "    \"query\": {\n",
    "        \"bool\": {\n",
    "            \"must\": {\n",
    "                \"multi_match\": {\n",
    "                    \"query\": query,\n",
    "                    \"fields\": [\"question\", \"text\"],\n",
    "                    \"type\": \"best_fields\"\n",
    "                }\n",
    "            },\n",
    "            \"filter\": {\n",
    "                \"term\": {\n",
    "                    \"course\": \"machine-learning-zoomcamp\"\n",
    "                }\n",
    "            }\n",
    "        }\n",
    "    }\n",
    "    }"
   ]
  },
  {
   "cell_type": "code",
   "execution_count": null,
   "id": "6b54f4ae",
   "metadata": {},
   "outputs": [],
   "source": [
    "search_results,_ = elastic_search(search_query)\n",
    "search_results[2]"
   ]
  },
  {
   "cell_type": "markdown",
   "id": "d91f8f85",
   "metadata": {},
   "source": [
    "**Q4 - Answer:**  \n",
    "`How do I copy files from a different folder into docker container’s working directory?`"
   ]
  },
  {
   "cell_type": "markdown",
   "id": "52e5e632",
   "metadata": {},
   "source": [
    "### Q5 - Building a prompt"
   ]
  },
  {
   "cell_type": "code",
   "execution_count": null,
   "id": "679aac28",
   "metadata": {},
   "outputs": [],
   "source": [
    "def build_prompt(query, search_results):\n",
    "    prompt_template = \"\"\"\n",
    "You're a course teaching assistant. Answer the QUESTION based on the CONTEXT from the FAQ database.\n",
    "Use only the facts from the CONTEXT when answering the QUESTION.\n",
    "\n",
    "QUESTION: {question}\n",
    "\n",
    "CONTEXT:\n",
    "{context}\n",
    "\"\"\".strip()\n",
    "\n",
    "    context = \"\"\n",
    "    \n",
    "    context = \"\"\n",
    "    for doc in search_results:\n",
    "        context = context + f\"\\nQ: {doc['question']}\\nA: {doc['text']}\\n\\n\"\n",
    "    context = context.strip()\n",
    "    \n",
    "    prompt = prompt_template.format(question=query, context=context).strip()\n",
    "    return prompt"
   ]
  },
  {
   "cell_type": "code",
   "execution_count": null,
   "id": "92e09392",
   "metadata": {},
   "outputs": [],
   "source": [
    "query =  \"How do copy a file to a Docker container?\"\n",
    "prompt = build_prompt(query, search_results)\n",
    "len(prompt)"
   ]
  },
  {
   "cell_type": "markdown",
   "id": "d20f8e26",
   "metadata": {},
   "source": [
    "**Q5 Answer:**  \n",
    "`1446`"
   ]
  },
  {
   "cell_type": "markdown",
   "id": "639ddd04",
   "metadata": {},
   "source": [
    "### Q6 Tokens"
   ]
  },
  {
   "cell_type": "code",
   "execution_count": null,
   "id": "caa2ac21",
   "metadata": {},
   "outputs": [],
   "source": [
    "import tiktoken"
   ]
  },
  {
   "cell_type": "code",
   "execution_count": null,
   "id": "e1ceef7d",
   "metadata": {},
   "outputs": [],
   "source": [
    "encoding = tiktoken.encoding_for_model(\"gpt-4o\")\n",
    "len(encoding.encode(prompt))"
   ]
  },
  {
   "cell_type": "markdown",
   "id": "9bb6278c",
   "metadata": {},
   "source": [
    "**Q6 - Answer:**  \n",
    "`320`"
   ]
  }
 ],
 "metadata": {
  "kernelspec": {
   "display_name": "base",
   "language": "python",
   "name": "python3"
  },
  "language_info": {
   "codemirror_mode": {
    "name": "ipython",
    "version": 3
   },
   "file_extension": ".py",
   "mimetype": "text/x-python",
   "name": "python",
   "nbconvert_exporter": "python",
   "pygments_lexer": "ipython3",
   "version": "3.10.9"
  }
 },
 "nbformat": 4,
 "nbformat_minor": 5
}
