{
 "cells": [
  {
   "cell_type": "code",
   "execution_count": 2,
   "id": "1b5a2738-0da2-4c7f-aca7-d2e54324ad70",
   "metadata": {},
   "outputs": [],
   "source": [
    "import openai"
   ]
  },
  {
   "cell_type": "code",
   "execution_count": 3,
   "id": "d21c0496-e8ef-4105-a5c7-8f2fc97e8e57",
   "metadata": {},
   "outputs": [],
   "source": [
    "from openai import OpenAI"
   ]
  },
  {
   "cell_type": "code",
   "execution_count": null,
   "id": "90e9b75d-23b3-4812-addf-b7f2c9bee2b8",
   "metadata": {},
   "outputs": [],
   "source": [
    "client = OpenAI()"
   ]
  },
  {
   "cell_type": "code",
   "execution_count": 9,
   "id": "a08df533-5c85-49b0-882d-1ea5777e1d61",
   "metadata": {},
   "outputs": [],
   "source": [
    "response = client.chat.completions.create(\n",
    "    model='gpt-4o-mini',\n",
    "    messages=[{\"role\": \"user\",\n",
    "              \"content\": \"How can I cook salmon?\"}])"
   ]
  },
  {
   "cell_type": "code",
   "execution_count": 13,
   "id": "fe4e1d93-e982-427e-9929-4ded8794babc",
   "metadata": {},
   "outputs": [
    {
     "data": {
      "text/plain": [
       "'Cooking salmon can be quite simple and delicious! Here are several popular methods you can use to prepare salmon:\\n\\n### 1. **Baking**\\n- **Ingredients**: Salmon fillets, olive oil, lemon, salt, pepper, herbs (like dill or parsley).\\n- **Instructions**:\\n  1. Preheat the oven to 350°F (175°C).\\n  2. Line a baking sheet with parchment paper or aluminum foil.\\n  3. Place the salmon fillets skin-side down on the baking sheet.\\n  4. Drizzle with olive oil and season with salt, pepper, and herbs.\\n  5. Squeeze lemon juice over the fillets.\\n  6. Bake for 12-15 minutes or until the salmon flakes easily with a fork.\\n\\n### 2. **Grilling**\\n- **Ingredients**: Salmon fillets, olive oil, salt, pepper, lemon or marinade (optional).\\n- **Instructions**:\\n  1. Preheat the grill to medium-high heat.\\n  2. Brush the salmon with olive oil and season with salt and pepper.\\n  3. Place the salmon skin-side down on the grill.\\n  4. Grill for about 6-8 minutes, then flip and grill for another 4-6 minutes until cooked through.\\n  5. Serve with lemon wedges.\\n\\n### 3. **Pan-Seering**\\n- **Ingredients**: Salmon fillets, olive oil or butter, salt, pepper, herbs (optional).\\n- **Instructions**:\\n  1. Heat a non-stick skillet over medium-high heat and add oil or butter.\\n  2. Season the salmon on both sides with salt and pepper.\\n  3. Place the salmon skin-side down in the pan.\\n  4. Cook for about 4-5 minutes until the skin is crispy, then flip and cook for another 3-4 minutes.\\n  5. Optional: Add herbs or a squeeze of lemon during the last minute of cooking.\\n\\n### 4. **Poaching**\\n- **Ingredients**: Salmon fillets, water or broth, lemon, herbs, salt.\\n- **Instructions**:\\n  1. In a large pan, combine enough water or broth to cover the salmon. Add lemon slices and herbs.\\n  2. Bring the liquid to a gentle simmer and season with salt.\\n  3. Carefully add the salmon, skin-side down, and cover.\\n  4. Poach for about 10-15 minutes or until the salmon is opaque and flakes easily.\\n\\n### 5. **Broiling**\\n- **Ingredients**: Salmon fillets, olive oil, lemon, salt, pepper.\\n- **Instructions**:\\n  1. Preheat the broiler in your oven and line a baking sheet with aluminum foil.\\n  2. Place the salmon on the baking sheet, skin-side down.\\n  3. Drizzle with olive oil, and season with salt, pepper, and lemon juice.\\n  4. Broil for about 6-10 minutes, depending on the thickness of the fillet. Watch closely to avoid burning.\\n\\n### Tips:\\n- **Check for doneness**: Salmon is done when it reaches an internal temperature of 145°F (63°C) and flakes easily with a fork.\\n- **Marinate for flavor**: Consider marinating your salmon for added flavor. Simple marinades can be made with soy sauce, honey, garlic, and ginger, among other ingredients.\\n- **Don’t overcook**: Salmon can dry out easily, so keep an eye on it while it cooks.\\n\\nEnjoy your deliciously cooked salmon!'"
      ]
     },
     "execution_count": 13,
     "metadata": {},
     "output_type": "execute_result"
    }
   ],
   "source": [
    "response.choices[0].message.content"
   ]
  }
 ],
 "metadata": {
  "kernelspec": {
   "display_name": "Python 3 (ipykernel)",
   "language": "python",
   "name": "python3"
  },
  "language_info": {
   "codemirror_mode": {
    "name": "ipython",
    "version": 3
   },
   "file_extension": ".py",
   "mimetype": "text/x-python",
   "name": "python",
   "nbconvert_exporter": "python",
   "pygments_lexer": "ipython3",
   "version": "3.12.1"
  }
 },
 "nbformat": 4,
 "nbformat_minor": 5
}
